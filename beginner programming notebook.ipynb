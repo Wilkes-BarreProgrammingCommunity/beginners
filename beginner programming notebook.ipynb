{
 "cells": [
  {
   "cell_type": "code",
   "execution_count": 2,
   "metadata": {
    "collapsed": false
   },
   "outputs": [
    {
     "name": "stdout",
     "output_type": "stream",
     "text": [
      "pass\n",
      "pass\n",
      "pass\n"
     ]
    }
   ],
   "source": [
    "\"\"\" complete myfunc() below so that the unit test passes.  run this code and if all outputs are pass, you have suceeded.\"\"\"\n",
    "\n",
    "def unit_test():\n",
    "    # takes myfunc and evaluates return property for validity\n",
    "    data = [[2, 3, 5], [-3, 3, 0], [7, 20, 27]]\n",
    "    for x in data:\n",
    "        if myfunc(x[0], x[1]) == x[2]:\n",
    "            print(\"pass\")\n",
    "        else:\n",
    "            print(\"fail\")\n",
    "\n",
    "def myfunc():\n",
    "    # takes 2 numbers as input and returns the sum of numbers\n",
    "    return\n",
    "\n",
    "unit_test()"
   ]
  },
  {
   "cell_type": "code",
   "execution_count": 2,
   "metadata": {
    "collapsed": false
   },
   "outputs": [
    {
     "name": "stdout",
     "output_type": "stream",
     "text": [
      "pass\n",
      "pass\n",
      "pass\n"
     ]
    }
   ],
   "source": [
    "\"\"\" complete myfunc() below so that the unit test passes\"\"\"\n",
    "\n",
    "def unit_test():\n",
    "    # takes myfunc and evaluates return property for validity\n",
    "    data = [[\"the quick\",\" brown\", \"the quick brown\"], [\"fox jumped\", \" over the\", \"fox jumped over the\"], [\"lazy dog\", \".\", \"lazy dog.\"]]\n",
    "    for x in data:\n",
    "        if myfunc(x[0], x[1]) == x[2]:\n",
    "            print(\"pass\")\n",
    "        else:\n",
    "            print(\"fail\")\n",
    "            \n",
    "def myfunc():\n",
    "    # takes 2 strings and returns a concatenated string\n",
    "    return\n",
    "\n",
    "unit_test()"
   ]
  },
  {
   "cell_type": "code",
   "execution_count": null,
   "metadata": {
    "collapsed": true
   },
   "outputs": [],
   "source": []
  }
 ],
 "metadata": {
  "kernelspec": {
   "display_name": "Python 3",
   "language": "python",
   "name": "python3"
  },
  "language_info": {
   "codemirror_mode": {
    "name": "ipython",
    "version": 3
   },
   "file_extension": ".py",
   "mimetype": "text/x-python",
   "name": "python",
   "nbconvert_exporter": "python",
   "pygments_lexer": "ipython3",
   "version": "3.5.1"
  }
 },
 "nbformat": 4,
 "nbformat_minor": 1
}
